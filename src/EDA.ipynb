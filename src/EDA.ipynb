{
 "cells": [
  {
   "cell_type": "markdown",
   "metadata": {},
   "source": [
    "# **Sentiment Analysis TheBridge**"
   ]
  },
  {
   "cell_type": "code",
   "execution_count": null,
   "metadata": {},
   "outputs": [],
   "source": [
    "import tweepy as tw\n",
    "import snscrape.modules.twitter as sntwitter\n",
    "import pandas as pd\n",
    "import sqlite3\n",
    "import datetime\n",
    "import seaborn as sns\n",
    "import matplotlib.pyplot as plt\n",
    "import re\n",
    "import pickle"
   ]
  },
  {
   "cell_type": "markdown",
   "metadata": {},
   "source": [
    "## Caso de uso\n",
    "\n",
    "Nuestro cliente (@TheBridge_Tech) desea desarrollar una monitorización de las redes sociales para medir el impacto de su marca y acciones comerciales.\n",
    "\n",
    "Para cumplir con su objetivo procedemos a realizar una serie de tareas desarrolladas a continuación."
   ]
  },
  {
   "cell_type": "markdown",
   "metadata": {},
   "source": [
    "### Recopilación de tweets mediante API\n",
    "\n",
    "Para llevar a cabo la tarea de recopilar tweets referentes a TheBridge con el fin de saber el sentimiento general hacia la compañía en esta red social (twitter) inicialmente utilizamos la API de twitter, desde la que procedemos a descargar la información."
   ]
  },
  {
   "cell_type": "code",
   "execution_count": 2,
   "metadata": {},
   "outputs": [],
   "source": [
    "# Credenciales\n",
    "MY_BEARER_TOKEN = \"XXXXXXX\"\n",
    "\n",
    "# Cliente\n",
    "client = tw.Client(bearer_token=MY_BEARER_TOKEN)"
   ]
  },
  {
   "cell_type": "code",
   "execution_count": 3,
   "metadata": {},
   "outputs": [],
   "source": [
    "# Petición\n",
    "query = \"@TheBridge_Tech lang:es -is:retweet\"\n",
    "# Parámetros (Debido a limitante de API de Twitter, se menciona más adelante)\n",
    "start_time = \"2022-05-17T00:00:00Z\"\n",
    "end_time = \"2022-05-22T00:00:00Z\"\n",
    "# Obtener tweets\n",
    "tweets = client.search_recent_tweets(query=query,\n",
    "                                     start_time=start_time,\n",
    "                                     end_time=end_time,\n",
    "                                     tweet_fields = [\"created_at\", \"text\", \"source\"],\n",
    "                                     user_fields = [\"name\", \"username\", \"location\", \"verified\", \"description\"],\n",
    "                                     max_results = 100,\n",
    "                                     expansions='author_id'\n",
    "                                     )"
   ]
  },
  {
   "cell_type": "code",
   "execution_count": 6,
   "metadata": {},
   "outputs": [
    {
     "data": {
      "text/html": [
       "<div>\n",
       "<style scoped>\n",
       "    .dataframe tbody tr th:only-of-type {\n",
       "        vertical-align: middle;\n",
       "    }\n",
       "\n",
       "    .dataframe tbody tr th {\n",
       "        vertical-align: top;\n",
       "    }\n",
       "\n",
       "    .dataframe thead th {\n",
       "        text-align: right;\n",
       "    }\n",
       "</style>\n",
       "<table border=\"1\" class=\"dataframe\">\n",
       "  <thead>\n",
       "    <tr style=\"text-align: right;\">\n",
       "      <th></th>\n",
       "      <th>Fecha_Creacion</th>\n",
       "      <th>Texto</th>\n",
       "      <th>Fuente</th>\n",
       "      <th>Nombre</th>\n",
       "      <th>Username</th>\n",
       "      <th>Ubicación</th>\n",
       "      <th>Verificado</th>\n",
       "      <th>Descripcion</th>\n",
       "    </tr>\n",
       "  </thead>\n",
       "  <tbody>\n",
       "    <tr>\n",
       "      <th>0</th>\n",
       "      <td>2022-05-18 15:23:22+00:00</td>\n",
       "      <td>Esta es la historia de Isis🤗 que decidió hacer...</td>\n",
       "      <td>Twitter Web App</td>\n",
       "      <td>The Bridge</td>\n",
       "      <td>TheBridge_Tech</td>\n",
       "      <td>Paseo de Recoletos, 15, Madrid</td>\n",
       "      <td>False</td>\n",
       "      <td>Aceleradora de Talento Digital\\n\\nBootcamps | ...</td>\n",
       "    </tr>\n",
       "    <tr>\n",
       "      <th>1</th>\n",
       "      <td>2022-05-18 11:26:31+00:00</td>\n",
       "      <td>Gracias @victorianoI y equipo por el análisis ...</td>\n",
       "      <td>Twitter Web App</td>\n",
       "      <td>Bcas</td>\n",
       "      <td>Bcasapp</td>\n",
       "      <td>Spain</td>\n",
       "      <td>False</td>\n",
       "      <td>¡¡Consigue dinero!! Adelantos de becas con Wal...</td>\n",
       "    </tr>\n",
       "    <tr>\n",
       "      <th>2</th>\n",
       "      <td>2022-05-18 08:31:13+00:00</td>\n",
       "      <td>¿Cómo combatir el paro juvenil🥵? #tipdeldia En...</td>\n",
       "      <td>Twitter Web App</td>\n",
       "      <td>Periódico PublicidAD</td>\n",
       "      <td>PdelaPublicidad</td>\n",
       "      <td>Madrid, Spain</td>\n",
       "      <td>False</td>\n",
       "      <td>Te ofrecemos toda la información sobre el sect...</td>\n",
       "    </tr>\n",
       "  </tbody>\n",
       "</table>\n",
       "</div>"
      ],
      "text/plain": [
       "             Fecha_Creacion  \\\n",
       "0 2022-05-18 15:23:22+00:00   \n",
       "1 2022-05-18 11:26:31+00:00   \n",
       "2 2022-05-18 08:31:13+00:00   \n",
       "\n",
       "                                               Texto           Fuente  \\\n",
       "0  Esta es la historia de Isis🤗 que decidió hacer...  Twitter Web App   \n",
       "1  Gracias @victorianoI y equipo por el análisis ...  Twitter Web App   \n",
       "2  ¿Cómo combatir el paro juvenil🥵? #tipdeldia En...  Twitter Web App   \n",
       "\n",
       "                 Nombre         Username                       Ubicación  \\\n",
       "0            The Bridge   TheBridge_Tech  Paseo de Recoletos, 15, Madrid   \n",
       "1                  Bcas          Bcasapp                           Spain   \n",
       "2  Periódico PublicidAD  PdelaPublicidad                   Madrid, Spain   \n",
       "\n",
       "   Verificado                                        Descripcion  \n",
       "0       False  Aceleradora de Talento Digital\\n\\nBootcamps | ...  \n",
       "1       False  ¡¡Consigue dinero!! Adelantos de becas con Wal...  \n",
       "2       False  Te ofrecemos toda la información sobre el sect...  "
      ]
     },
     "execution_count": 6,
     "metadata": {},
     "output_type": "execute_result"
    }
   ],
   "source": [
    "# Creamos un dataset\n",
    "tweets_info = []\n",
    "# Iterando sobre los tweets\n",
    "for tweet, user in zip(tweets.data, tweets.includes['users']):\n",
    "    tweet_info = {\n",
    "        'Fecha_Creacion': tweet.created_at,\n",
    "        'Texto': tweet.text,\n",
    "        'Fuente': tweet.source,\n",
    "        'Nombre': user.name,\n",
    "        'Username': user.username,\n",
    "        'Ubicación': user.location,\n",
    "        'Verificado': user.verified,\n",
    "        'Descripcion': user.description\n",
    "    }\n",
    "    tweets_info.append(tweet_info)\n",
    "# Creamos dataframe\n",
    "tweets_df = pd.DataFrame(tweets_info)\n",
    "# Observamos dataframe\n",
    "tweets_df.head()"
   ]
  },
  {
   "cell_type": "markdown",
   "metadata": {},
   "source": [
    "### Usando webscrapping\n",
    "\n",
    "La API de Twitter tiene una limitación y exige que para obtener información de tweets de hace más de una semana (7 dias) se debe tener una cuenta con un estatus mas alto (académica), por lo que procedemos a aplicar webscrapping."
   ]
  },
  {
   "cell_type": "code",
   "execution_count": null,
   "metadata": {},
   "outputs": [],
   "source": [
    "import twit_scrap #Creamos un .csv con los datos deseados llamado \"tweets.csv\""
   ]
  },
  {
   "cell_type": "code",
   "execution_count": 10,
   "metadata": {},
   "outputs": [
    {
     "data": {
      "text/html": [
       "<div>\n",
       "<style scoped>\n",
       "    .dataframe tbody tr th:only-of-type {\n",
       "        vertical-align: middle;\n",
       "    }\n",
       "\n",
       "    .dataframe tbody tr th {\n",
       "        vertical-align: top;\n",
       "    }\n",
       "\n",
       "    .dataframe thead th {\n",
       "        text-align: right;\n",
       "    }\n",
       "</style>\n",
       "<table border=\"1\" class=\"dataframe\">\n",
       "  <thead>\n",
       "    <tr style=\"text-align: right;\">\n",
       "      <th></th>\n",
       "      <th>Date</th>\n",
       "      <th>User</th>\n",
       "      <th>Tweet</th>\n",
       "      <th>Likes</th>\n",
       "      <th>Retweets</th>\n",
       "      <th>Replies</th>\n",
       "    </tr>\n",
       "  </thead>\n",
       "  <tbody>\n",
       "    <tr>\n",
       "      <th>0</th>\n",
       "      <td>2022-05-19 15:39:16+00:00</td>\n",
       "      <td>TheBridge_Tech</td>\n",
       "      <td>¡Qué poco queda para el próximo 🔥Burn Monday🔥!...</td>\n",
       "      <td>0</td>\n",
       "      <td>2</td>\n",
       "      <td>0</td>\n",
       "    </tr>\n",
       "    <tr>\n",
       "      <th>1</th>\n",
       "      <td>2022-05-18 15:23:22+00:00</td>\n",
       "      <td>TheBridge_Tech</td>\n",
       "      <td>Esta es la historia de Isis🤗 que decidió hacer...</td>\n",
       "      <td>0</td>\n",
       "      <td>0</td>\n",
       "      <td>0</td>\n",
       "    </tr>\n",
       "    <tr>\n",
       "      <th>2</th>\n",
       "      <td>2022-05-18 11:26:31+00:00</td>\n",
       "      <td>TheBridge_Tech</td>\n",
       "      <td>Gracias @victorianoI y equipo por el análisis ...</td>\n",
       "      <td>0</td>\n",
       "      <td>0</td>\n",
       "      <td>0</td>\n",
       "    </tr>\n",
       "    <tr>\n",
       "      <th>3</th>\n",
       "      <td>2022-05-18 08:31:13+00:00</td>\n",
       "      <td>Bcasapp</td>\n",
       "      <td>¿Cómo combatir el paro juvenil🥵? #tipdeldia En...</td>\n",
       "      <td>8</td>\n",
       "      <td>4</td>\n",
       "      <td>1</td>\n",
       "    </tr>\n",
       "    <tr>\n",
       "      <th>4</th>\n",
       "      <td>2022-05-17 14:53:47+00:00</td>\n",
       "      <td>TheBridge_Tech</td>\n",
       "      <td>¿Con ganas de probar si un empleo tecnológico ...</td>\n",
       "      <td>2</td>\n",
       "      <td>2</td>\n",
       "      <td>0</td>\n",
       "    </tr>\n",
       "    <tr>\n",
       "      <th>...</th>\n",
       "      <td>...</td>\n",
       "      <td>...</td>\n",
       "      <td>...</td>\n",
       "      <td>...</td>\n",
       "      <td>...</td>\n",
       "      <td>...</td>\n",
       "    </tr>\n",
       "    <tr>\n",
       "      <th>129</th>\n",
       "      <td>2022-01-18 16:02:13+00:00</td>\n",
       "      <td>TheBridge_Tech</td>\n",
       "      <td>Del periodismo al marketing digital 🤸 esta es ...</td>\n",
       "      <td>0</td>\n",
       "      <td>0</td>\n",
       "      <td>0</td>\n",
       "    </tr>\n",
       "    <tr>\n",
       "      <th>130</th>\n",
       "      <td>2022-01-12 19:03:03+00:00</td>\n",
       "      <td>nodosenlared</td>\n",
       "      <td>Ciclo de Conferencias sobre Inteligencia Artif...</td>\n",
       "      <td>6</td>\n",
       "      <td>1</td>\n",
       "      <td>0</td>\n",
       "    </tr>\n",
       "    <tr>\n",
       "      <th>131</th>\n",
       "      <td>2022-01-09 17:23:02+00:00</td>\n",
       "      <td>ing_titiritero</td>\n",
       "      <td>Me encantaría saber que les enseñan sobre esta...</td>\n",
       "      <td>0</td>\n",
       "      <td>0</td>\n",
       "      <td>0</td>\n",
       "    </tr>\n",
       "    <tr>\n",
       "      <th>132</th>\n",
       "      <td>2022-01-08 12:10:46+00:00</td>\n",
       "      <td>cmarchena</td>\n",
       "      <td>@cbusquets Hola, @TheBridge_Tech te da la opci...</td>\n",
       "      <td>4</td>\n",
       "      <td>0</td>\n",
       "      <td>0</td>\n",
       "    </tr>\n",
       "    <tr>\n",
       "      <th>133</th>\n",
       "      <td>2022-01-05 08:00:01+00:00</td>\n",
       "      <td>pymesmagazine</td>\n",
       "      <td>¿Quieres formarte en una de las profesiones qu...</td>\n",
       "      <td>3</td>\n",
       "      <td>0</td>\n",
       "      <td>0</td>\n",
       "    </tr>\n",
       "  </tbody>\n",
       "</table>\n",
       "<p>134 rows × 6 columns</p>\n",
       "</div>"
      ],
      "text/plain": [
       "                          Date            User  \\\n",
       "0    2022-05-19 15:39:16+00:00  TheBridge_Tech   \n",
       "1    2022-05-18 15:23:22+00:00  TheBridge_Tech   \n",
       "2    2022-05-18 11:26:31+00:00  TheBridge_Tech   \n",
       "3    2022-05-18 08:31:13+00:00         Bcasapp   \n",
       "4    2022-05-17 14:53:47+00:00  TheBridge_Tech   \n",
       "..                         ...             ...   \n",
       "129  2022-01-18 16:02:13+00:00  TheBridge_Tech   \n",
       "130  2022-01-12 19:03:03+00:00    nodosenlared   \n",
       "131  2022-01-09 17:23:02+00:00  ing_titiritero   \n",
       "132  2022-01-08 12:10:46+00:00       cmarchena   \n",
       "133  2022-01-05 08:00:01+00:00   pymesmagazine   \n",
       "\n",
       "                                                 Tweet  Likes  Retweets  \\\n",
       "0    ¡Qué poco queda para el próximo 🔥Burn Monday🔥!...      0         2   \n",
       "1    Esta es la historia de Isis🤗 que decidió hacer...      0         0   \n",
       "2    Gracias @victorianoI y equipo por el análisis ...      0         0   \n",
       "3    ¿Cómo combatir el paro juvenil🥵? #tipdeldia En...      8         4   \n",
       "4    ¿Con ganas de probar si un empleo tecnológico ...      2         2   \n",
       "..                                                 ...    ...       ...   \n",
       "129  Del periodismo al marketing digital 🤸 esta es ...      0         0   \n",
       "130  Ciclo de Conferencias sobre Inteligencia Artif...      6         1   \n",
       "131  Me encantaría saber que les enseñan sobre esta...      0         0   \n",
       "132  @cbusquets Hola, @TheBridge_Tech te da la opci...      4         0   \n",
       "133  ¿Quieres formarte en una de las profesiones qu...      3         0   \n",
       "\n",
       "     Replies  \n",
       "0          0  \n",
       "1          0  \n",
       "2          0  \n",
       "3          1  \n",
       "4          0  \n",
       "..       ...  \n",
       "129        0  \n",
       "130        0  \n",
       "131        0  \n",
       "132        0  \n",
       "133        0  \n",
       "\n",
       "[134 rows x 6 columns]"
      ]
     },
     "execution_count": 10,
     "metadata": {},
     "output_type": "execute_result"
    }
   ],
   "source": [
    "df = pd.read_csv(\"tweets.csv\", index_col=0)#Dataframe con los datos completos\n",
    "df"
   ]
  },
  {
   "cell_type": "markdown",
   "metadata": {},
   "source": [
    "### Generando base de datos\n",
    "\n",
    "Procedemos a generar una base de datos SQL para almacenar información futura."
   ]
  },
  {
   "cell_type": "code",
   "execution_count": 19,
   "metadata": {},
   "outputs": [],
   "source": [
    "#Dataframes para generar dos tablas en la base de datos\n",
    "df_1 = df[[\"Date\", \"User\", \"Tweet\"]]\n",
    "df_2 = df[[\"Likes\", \"Retweets\", \"Replies\"]]\n",
    "\n",
    "#Generando base de datos\n",
    "conn = sqlite3.connect('twitter_tb_db') #Se genera la base de datos llamada twitter_tb_db\n",
    "c = conn.cursor() #Se coloca el cursor\n",
    "\n",
    "c.execute('CREATE TABLE IF NOT EXISTS str_data (Date text, User text, Tweet text)') #Se crea la tabla \"str_data\" en la base de datos\n",
    "conn.commit()                                                                        #con tres columnas (Date,User,Tweet), todas tipo texto\n",
    "\n",
    "c.execute('CREATE TABLE IF NOT EXISTS num_data (Likes number, Retweets number, Replies number)') #Se crea la tabla num_data igual a la\n",
    "conn.commit()                                                                                      #anterior\n",
    "\n",
    "df_1.to_sql('str_data', conn, if_exists='replace', index = False) #Si ya existe la columna que la reemplace\n",
    "\n",
    "df_2.to_sql('num_data', conn, if_exists='replace', index = False)"
   ]
  },
  {
   "cell_type": "markdown",
   "metadata": {},
   "source": [
    "### Análisis de datos\n",
    "\n",
    "Nos planteamos distintas preguntas a ser respondidas con data, a petición de nuestro cliente."
   ]
  },
  {
   "cell_type": "code",
   "execution_count": null,
   "metadata": {},
   "outputs": [],
   "source": [
    "##Dejo la fecha en un formato que luego puedo cambiar a datetime tomando solo el día, mes y año [0:10]\n",
    "for i,j in enumerate(df[\"Date\"]):\n",
    "    df[\"Date\"].iloc[i] = df[\"Date\"][i][0:10]\n",
    "\n",
    "df[\"Date\"] = pd.to_datetime(df[\"Date\"], format=\"%Y/%m/%d\")"
   ]
  },
  {
   "cell_type": "markdown",
   "metadata": {},
   "source": [
    "#### Tweets con más impacto social"
   ]
  },
  {
   "cell_type": "code",
   "execution_count": 13,
   "metadata": {},
   "outputs": [
    {
     "data": {
      "text/html": [
       "<div>\n",
       "<style scoped>\n",
       "    .dataframe tbody tr th:only-of-type {\n",
       "        vertical-align: middle;\n",
       "    }\n",
       "\n",
       "    .dataframe tbody tr th {\n",
       "        vertical-align: top;\n",
       "    }\n",
       "\n",
       "    .dataframe thead th {\n",
       "        text-align: right;\n",
       "    }\n",
       "</style>\n",
       "<table border=\"1\" class=\"dataframe\">\n",
       "  <thead>\n",
       "    <tr style=\"text-align: right;\">\n",
       "      <th></th>\n",
       "      <th>Date</th>\n",
       "      <th>User</th>\n",
       "      <th>Tweet</th>\n",
       "      <th>Likes</th>\n",
       "      <th>Retweets</th>\n",
       "      <th>Replies</th>\n",
       "      <th>Social impact</th>\n",
       "    </tr>\n",
       "  </thead>\n",
       "  <tbody>\n",
       "    <tr>\n",
       "      <th>3</th>\n",
       "      <td>2022-05-18</td>\n",
       "      <td>Bcasapp</td>\n",
       "      <td>¿Cómo combatir el paro juvenil🥵? #tipdeldia En...</td>\n",
       "      <td>8</td>\n",
       "      <td>4</td>\n",
       "      <td>1</td>\n",
       "      <td>13</td>\n",
       "    </tr>\n",
       "    <tr>\n",
       "      <th>19</th>\n",
       "      <td>2022-04-28</td>\n",
       "      <td>JM_Torralba_</td>\n",
       "      <td>En breve empezamos la charla sobre RV y Psicol...</td>\n",
       "      <td>15</td>\n",
       "      <td>1</td>\n",
       "      <td>0</td>\n",
       "      <td>16</td>\n",
       "    </tr>\n",
       "    <tr>\n",
       "      <th>25</th>\n",
       "      <td>2022-04-26</td>\n",
       "      <td>kairos_ds</td>\n",
       "      <td>Nuestra Head de Data &amp;amp; IA @quierodata, est...</td>\n",
       "      <td>7</td>\n",
       "      <td>5</td>\n",
       "      <td>0</td>\n",
       "      <td>12</td>\n",
       "    </tr>\n",
       "    <tr>\n",
       "      <th>55</th>\n",
       "      <td>2022-04-18</td>\n",
       "      <td>bertinha84</td>\n",
       "      <td>Hoy empiezo en un ratito mi camino en el Ux/ui...</td>\n",
       "      <td>6</td>\n",
       "      <td>1</td>\n",
       "      <td>5</td>\n",
       "      <td>12</td>\n",
       "    </tr>\n",
       "    <tr>\n",
       "      <th>57</th>\n",
       "      <td>2022-04-12</td>\n",
       "      <td>manufosela</td>\n",
       "      <td>De los 21, hay 7 desarrolladoras de @Adalab_Di...</td>\n",
       "      <td>12</td>\n",
       "      <td>3</td>\n",
       "      <td>3</td>\n",
       "      <td>18</td>\n",
       "    </tr>\n",
       "    <tr>\n",
       "      <th>74</th>\n",
       "      <td>2022-03-24</td>\n",
       "      <td>ENCamaraSevilla</td>\n",
       "      <td>La @camaradesevilla organiza junto al Grupo Pl...</td>\n",
       "      <td>7</td>\n",
       "      <td>4</td>\n",
       "      <td>0</td>\n",
       "      <td>11</td>\n",
       "    </tr>\n",
       "    <tr>\n",
       "      <th>88</th>\n",
       "      <td>2022-03-05</td>\n",
       "      <td>pablooliete</td>\n",
       "      <td>Día para agradecer a @TheBridge_Tech y @Glovo_...</td>\n",
       "      <td>13</td>\n",
       "      <td>0</td>\n",
       "      <td>0</td>\n",
       "      <td>13</td>\n",
       "    </tr>\n",
       "    <tr>\n",
       "      <th>104</th>\n",
       "      <td>2022-02-18</td>\n",
       "      <td>IndraCompany</td>\n",
       "      <td>¿Aún no has solicitado tu beca para el #bootca...</td>\n",
       "      <td>8</td>\n",
       "      <td>5</td>\n",
       "      <td>0</td>\n",
       "      <td>13</td>\n",
       "    </tr>\n",
       "  </tbody>\n",
       "</table>\n",
       "</div>"
      ],
      "text/plain": [
       "          Date             User  \\\n",
       "3   2022-05-18          Bcasapp   \n",
       "19  2022-04-28     JM_Torralba_   \n",
       "25  2022-04-26        kairos_ds   \n",
       "55  2022-04-18       bertinha84   \n",
       "57  2022-04-12       manufosela   \n",
       "74  2022-03-24  ENCamaraSevilla   \n",
       "88  2022-03-05      pablooliete   \n",
       "104 2022-02-18     IndraCompany   \n",
       "\n",
       "                                                 Tweet  Likes  Retweets  \\\n",
       "3    ¿Cómo combatir el paro juvenil🥵? #tipdeldia En...      8         4   \n",
       "19   En breve empezamos la charla sobre RV y Psicol...     15         1   \n",
       "25   Nuestra Head de Data &amp; IA @quierodata, est...      7         5   \n",
       "55   Hoy empiezo en un ratito mi camino en el Ux/ui...      6         1   \n",
       "57   De los 21, hay 7 desarrolladoras de @Adalab_Di...     12         3   \n",
       "74   La @camaradesevilla organiza junto al Grupo Pl...      7         4   \n",
       "88   Día para agradecer a @TheBridge_Tech y @Glovo_...     13         0   \n",
       "104  ¿Aún no has solicitado tu beca para el #bootca...      8         5   \n",
       "\n",
       "     Replies  Social impact  \n",
       "3          1             13  \n",
       "19         0             16  \n",
       "25         0             12  \n",
       "55         5             12  \n",
       "57         3             18  \n",
       "74         0             11  \n",
       "88         0             13  \n",
       "104        0             13  "
      ]
     },
     "execution_count": 13,
     "metadata": {},
     "output_type": "execute_result"
    }
   ],
   "source": [
    "#Tweets con mas impacto social\n",
    "df[\"Social impact\"] = df[\"Likes\"] + df[\"Retweets\"] + df[\"Replies\"] #Digo que el impacto es igual a la sumatoria de likes+retweets+rep\n",
    "df[df[\"Social impact\"] > 10] #Cuales son las de mayor impacto (Mayor de 10, puedo seleccionar las 3 que mas tienen)"
   ]
  },
  {
   "cell_type": "code",
   "execution_count": 41,
   "metadata": {},
   "outputs": [
    {
     "data": {
      "text/plain": [
       "<AxesSubplot:xlabel='Likes', ylabel='Social impact'>"
      ]
     },
     "execution_count": 41,
     "metadata": {},
     "output_type": "execute_result"
    },
    {
     "data": {
      "image/png": "[encoded data removed]",
      "text/plain": [
       "<Figure size 432x288 with 1 Axes>"
      ]
     },
     "metadata": {
      "needs_background": "light"
     },
     "output_type": "display_data"
    }
   ],
   "source": [
    "plot_data = df[df[\"Social impact\"] > 10][[\"Likes\", \"Social impact\"]]\n",
    "sns.barplot(x=plot_data[\"Likes\"], y=plot_data[\"Social impact\"])"
   ]
  },
  {
   "cell_type": "markdown",
   "metadata": {},
   "source": [
    "#### Usuario que más menciona a TheBridge"
   ]
  },
  {
   "cell_type": "code",
   "execution_count": 45,
   "metadata": {},
   "outputs": [
    {
     "data": {
      "text/plain": [
       "TheBridge_Tech     53\n",
       "MujeresaSeguir      7\n",
       "bertinha84          5\n",
       "FUniversia          3\n",
       "IndraCompany        3\n",
       "soyelsimo           2\n",
       "arey                2\n",
       "nodosenlared        2\n",
       "burn_es             2\n",
       "Poder_Liderazgo     2\n",
       "vocentoeventos      2\n",
       "JM_Torralba_        2\n",
       "CourseReport        2\n",
       "TheFringeLABS       2\n",
       "michaelpage_es      1\n",
       "PICKYUAN            1\n",
       "MyNews_es           1\n",
       "carlosguardiola     1\n",
       "ENCamaraSevilla     1\n",
       "insidezeusdata      1\n",
       "pablooliete         1\n",
       "cmarchena           1\n",
       "Women4Cyber_SP      1\n",
       "soyuxpuntocom       1\n",
       "antoniolopezg       1\n",
       "zoomtecnochile      1\n",
       "camaradesevilla     1\n",
       "pumuckey            1\n",
       "SoyValor            1\n",
       "AssociacioACEC      1\n",
       "diegodl             1\n",
       "ing_titiritero      1\n",
       "AIBot_CdH           1\n",
       "raulcotrina         1\n",
       "assemblerinstit     1\n",
       "Capgemini_ES        1\n",
       "PdelaPublicidad     1\n",
       "Alberto_Blanco      1\n",
       "graphext            1\n",
       "apedreroes          1\n",
       "spaingeneration     1\n",
       "gabinha             1\n",
       "IrnMM               1\n",
       "kairos_ds           1\n",
       "BerrocalRuben       1\n",
       "COGITIValencia      1\n",
       "GemmaRBar           1\n",
       "Bcasapp             1\n",
       "itep_es             1\n",
       "mrentem             1\n",
       "alicesilverpol      1\n",
       "jmnavarro           1\n",
       "AndreaMaganRey      1\n",
       "alinnfm             1\n",
       "marcosDLCS          1\n",
       "CodenotchMAD        1\n",
       "manufosela          1\n",
       "beajmnz             1\n",
       "pymesmagazine       1\n",
       "Name: User, dtype: int64"
      ]
     },
     "execution_count": 45,
     "metadata": {},
     "output_type": "execute_result"
    }
   ],
   "source": [
    "#Usuario que mas menciona a TheBridge\n",
    "df[\"User\"].value_counts()"
   ]
  },
  {
   "cell_type": "markdown",
   "metadata": {},
   "source": [
    "El usuario que más menciona a TheBridge es MujeresaSeguir."
   ]
  },
  {
   "cell_type": "markdown",
   "metadata": {},
   "source": [
    "#### Meses con mayor actividad"
   ]
  },
  {
   "cell_type": "code",
   "execution_count": 16,
   "metadata": {},
   "outputs": [
    {
     "data": {
      "text/plain": [
       "04    49\n",
       "03    27\n",
       "02    23\n",
       "05    18\n",
       "01    17\n",
       "Name: Month, dtype: int64"
      ]
     },
     "execution_count": 16,
     "metadata": {},
     "output_type": "execute_result"
    }
   ],
   "source": [
    "#Meses con mas actividad\n",
    "df[\"Month\"] = df[\"Date\"].dt.strftime('%m')\n",
    "df[\"Month\"].value_counts()"
   ]
  },
  {
   "cell_type": "markdown",
   "metadata": {},
   "source": [
    "El més de abril (04) tiene mayor actividad."
   ]
  },
  {
   "cell_type": "markdown",
   "metadata": {},
   "source": [
    "#### Correlación de métricas"
   ]
  },
  {
   "cell_type": "code",
   "execution_count": 20,
   "metadata": {},
   "outputs": [
    {
     "data": {
      "image/png": "[encoded data removed]",
      "text/plain": [
       "<Figure size 432x288 with 2 Axes>"
      ]
     },
     "metadata": {
      "needs_background": "light"
     },
     "output_type": "display_data"
    }
   ],
   "source": [
    "sns.heatmap(df_2.corr(), annot = True);"
   ]
  },
  {
   "cell_type": "markdown",
   "metadata": {},
   "source": [
    "La mayor correlación está entre likes y retweets, con 0.49."
   ]
  },
  {
   "cell_type": "markdown",
   "metadata": {},
   "source": [
    "#### Modelo preentrenado\n",
    "\n",
    "Realizamos la predicción de \"sentimientos\" en los tweets con un modelo preentrenado de NLP."
   ]
  },
  {
   "cell_type": "code",
   "execution_count": 21,
   "metadata": {},
   "outputs": [],
   "source": [
    "#Limpiando un poco la data de los textos de tweets para las predicciones\n",
    "\n",
    "# Remover todos los signos de puntuación, exclamaciones...\n",
    "# Tb pasamos a minuscula y nos cargamos etiquetas HTML\n",
    "REPLACE_NO_SPACE = re.compile(\"(\\.)|(\\;)|(\\:)|(\\!)|(\\?)|(\\,)|(\\\")|(\\()|(\\))|(\\[)|(\\])|(\\d+)\")\n",
    "REPLACE_WITH_SPACE = re.compile(\"(<br\\s*/><br\\s*/>)|(\\-)|(\\/)\")\n",
    "NO_SPACE = \"\"\n",
    "SPACE = \" \"\n",
    "\n",
    "def preprocess_reviews(reviews):\n",
    "    \n",
    "    # Para todas las reviews en minuscula, sustituye algunas cosas por espacio y otras por vacio.\n",
    "    reviews = [REPLACE_NO_SPACE.sub(NO_SPACE, line.lower()) for line in reviews]\n",
    "    reviews = [REPLACE_WITH_SPACE.sub(SPACE, line) for line in reviews]\n",
    "    \n",
    "    return reviews\n",
    "\n",
    "# Reviews tras aplicar la limpieza\n",
    "tweets_clean = preprocess_reviews(df[\"Tweet\"])"
   ]
  },
  {
   "cell_type": "code",
   "execution_count": 22,
   "metadata": {},
   "outputs": [],
   "source": [
    "df[\"Clean Tweet\"] = tweets_clean #Columna de tweets en clean"
   ]
  },
  {
   "cell_type": "code",
   "execution_count": 23,
   "metadata": {},
   "outputs": [
    {
     "data": {
      "text/html": [
       "<div>\n",
       "<style scoped>\n",
       "    .dataframe tbody tr th:only-of-type {\n",
       "        vertical-align: middle;\n",
       "    }\n",
       "\n",
       "    .dataframe tbody tr th {\n",
       "        vertical-align: top;\n",
       "    }\n",
       "\n",
       "    .dataframe thead th {\n",
       "        text-align: right;\n",
       "    }\n",
       "</style>\n",
       "<table border=\"1\" class=\"dataframe\">\n",
       "  <thead>\n",
       "    <tr style=\"text-align: right;\">\n",
       "      <th></th>\n",
       "      <th>Date</th>\n",
       "      <th>User</th>\n",
       "      <th>Tweet</th>\n",
       "      <th>Likes</th>\n",
       "      <th>Retweets</th>\n",
       "      <th>Replies</th>\n",
       "      <th>Social impact</th>\n",
       "      <th>Month</th>\n",
       "      <th>Clean Tweet</th>\n",
       "    </tr>\n",
       "  </thead>\n",
       "  <tbody>\n",
       "    <tr>\n",
       "      <th>0</th>\n",
       "      <td>2022-05-19</td>\n",
       "      <td>TheBridge_Tech</td>\n",
       "      <td>¡Qué poco queda para el próximo 🔥Burn Monday🔥!...</td>\n",
       "      <td>0</td>\n",
       "      <td>2</td>\n",
       "      <td>0</td>\n",
       "      <td>2</td>\n",
       "      <td>05</td>\n",
       "      <td>¡qué poco queda para el próximo 🔥burn monday🔥 ...</td>\n",
       "    </tr>\n",
       "    <tr>\n",
       "      <th>1</th>\n",
       "      <td>2022-05-18</td>\n",
       "      <td>TheBridge_Tech</td>\n",
       "      <td>Esta es la historia de Isis🤗 que decidió hacer...</td>\n",
       "      <td>0</td>\n",
       "      <td>0</td>\n",
       "      <td>0</td>\n",
       "      <td>0</td>\n",
       "      <td>05</td>\n",
       "      <td>esta es la historia de isis🤗 que decidió hacer...</td>\n",
       "    </tr>\n",
       "    <tr>\n",
       "      <th>2</th>\n",
       "      <td>2022-05-18</td>\n",
       "      <td>TheBridge_Tech</td>\n",
       "      <td>Gracias @victorianoI y equipo por el análisis ...</td>\n",
       "      <td>0</td>\n",
       "      <td>0</td>\n",
       "      <td>0</td>\n",
       "      <td>0</td>\n",
       "      <td>05</td>\n",
       "      <td>gracias @victorianoi y equipo por el análisis ...</td>\n",
       "    </tr>\n",
       "    <tr>\n",
       "      <th>3</th>\n",
       "      <td>2022-05-18</td>\n",
       "      <td>Bcasapp</td>\n",
       "      <td>¿Cómo combatir el paro juvenil🥵? #tipdeldia En...</td>\n",
       "      <td>8</td>\n",
       "      <td>4</td>\n",
       "      <td>1</td>\n",
       "      <td>13</td>\n",
       "      <td>05</td>\n",
       "      <td>¿cómo combatir el paro juvenil🥵 #tipdeldia en ...</td>\n",
       "    </tr>\n",
       "    <tr>\n",
       "      <th>4</th>\n",
       "      <td>2022-05-17</td>\n",
       "      <td>TheBridge_Tech</td>\n",
       "      <td>¿Con ganas de probar si un empleo tecnológico ...</td>\n",
       "      <td>2</td>\n",
       "      <td>2</td>\n",
       "      <td>0</td>\n",
       "      <td>4</td>\n",
       "      <td>05</td>\n",
       "      <td>¿con ganas de probar si un empleo tecnológico ...</td>\n",
       "    </tr>\n",
       "    <tr>\n",
       "      <th>...</th>\n",
       "      <td>...</td>\n",
       "      <td>...</td>\n",
       "      <td>...</td>\n",
       "      <td>...</td>\n",
       "      <td>...</td>\n",
       "      <td>...</td>\n",
       "      <td>...</td>\n",
       "      <td>...</td>\n",
       "      <td>...</td>\n",
       "    </tr>\n",
       "    <tr>\n",
       "      <th>129</th>\n",
       "      <td>2022-01-18</td>\n",
       "      <td>TheBridge_Tech</td>\n",
       "      <td>Del periodismo al marketing digital 🤸 esta es ...</td>\n",
       "      <td>0</td>\n",
       "      <td>0</td>\n",
       "      <td>0</td>\n",
       "      <td>0</td>\n",
       "      <td>01</td>\n",
       "      <td>del periodismo al marketing digital 🤸 esta es ...</td>\n",
       "    </tr>\n",
       "    <tr>\n",
       "      <th>130</th>\n",
       "      <td>2022-01-12</td>\n",
       "      <td>nodosenlared</td>\n",
       "      <td>Ciclo de Conferencias sobre Inteligencia Artif...</td>\n",
       "      <td>6</td>\n",
       "      <td>1</td>\n",
       "      <td>0</td>\n",
       "      <td>7</td>\n",
       "      <td>01</td>\n",
       "      <td>ciclo de conferencias sobre inteligencia artif...</td>\n",
       "    </tr>\n",
       "    <tr>\n",
       "      <th>131</th>\n",
       "      <td>2022-01-09</td>\n",
       "      <td>ing_titiritero</td>\n",
       "      <td>Me encantaría saber que les enseñan sobre esta...</td>\n",
       "      <td>0</td>\n",
       "      <td>0</td>\n",
       "      <td>0</td>\n",
       "      <td>0</td>\n",
       "      <td>01</td>\n",
       "      <td>me encantaría saber que les enseñan sobre esta...</td>\n",
       "    </tr>\n",
       "    <tr>\n",
       "      <th>132</th>\n",
       "      <td>2022-01-08</td>\n",
       "      <td>cmarchena</td>\n",
       "      <td>@cbusquets Hola, @TheBridge_Tech te da la opci...</td>\n",
       "      <td>4</td>\n",
       "      <td>0</td>\n",
       "      <td>0</td>\n",
       "      <td>4</td>\n",
       "      <td>01</td>\n",
       "      <td>@cbusquets hola @thebridge_tech te da la opció...</td>\n",
       "    </tr>\n",
       "    <tr>\n",
       "      <th>133</th>\n",
       "      <td>2022-01-05</td>\n",
       "      <td>pymesmagazine</td>\n",
       "      <td>¿Quieres formarte en una de las profesiones qu...</td>\n",
       "      <td>3</td>\n",
       "      <td>0</td>\n",
       "      <td>0</td>\n",
       "      <td>3</td>\n",
       "      <td>01</td>\n",
       "      <td>¿quieres formarte en una de las profesiones qu...</td>\n",
       "    </tr>\n",
       "  </tbody>\n",
       "</table>\n",
       "<p>134 rows × 9 columns</p>\n",
       "</div>"
      ],
      "text/plain": [
       "          Date            User  \\\n",
       "0   2022-05-19  TheBridge_Tech   \n",
       "1   2022-05-18  TheBridge_Tech   \n",
       "2   2022-05-18  TheBridge_Tech   \n",
       "3   2022-05-18         Bcasapp   \n",
       "4   2022-05-17  TheBridge_Tech   \n",
       "..         ...             ...   \n",
       "129 2022-01-18  TheBridge_Tech   \n",
       "130 2022-01-12    nodosenlared   \n",
       "131 2022-01-09  ing_titiritero   \n",
       "132 2022-01-08       cmarchena   \n",
       "133 2022-01-05   pymesmagazine   \n",
       "\n",
       "                                                 Tweet  Likes  Retweets  \\\n",
       "0    ¡Qué poco queda para el próximo 🔥Burn Monday🔥!...      0         2   \n",
       "1    Esta es la historia de Isis🤗 que decidió hacer...      0         0   \n",
       "2    Gracias @victorianoI y equipo por el análisis ...      0         0   \n",
       "3    ¿Cómo combatir el paro juvenil🥵? #tipdeldia En...      8         4   \n",
       "4    ¿Con ganas de probar si un empleo tecnológico ...      2         2   \n",
       "..                                                 ...    ...       ...   \n",
       "129  Del periodismo al marketing digital 🤸 esta es ...      0         0   \n",
       "130  Ciclo de Conferencias sobre Inteligencia Artif...      6         1   \n",
       "131  Me encantaría saber que les enseñan sobre esta...      0         0   \n",
       "132  @cbusquets Hola, @TheBridge_Tech te da la opci...      4         0   \n",
       "133  ¿Quieres formarte en una de las profesiones qu...      3         0   \n",
       "\n",
       "     Replies  Social impact Month  \\\n",
       "0          0              2    05   \n",
       "1          0              0    05   \n",
       "2          0              0    05   \n",
       "3          1             13    05   \n",
       "4          0              4    05   \n",
       "..       ...            ...   ...   \n",
       "129        0              0    01   \n",
       "130        0              7    01   \n",
       "131        0              0    01   \n",
       "132        0              4    01   \n",
       "133        0              3    01   \n",
       "\n",
       "                                           Clean Tweet  \n",
       "0    ¡qué poco queda para el próximo 🔥burn monday🔥 ...  \n",
       "1    esta es la historia de isis🤗 que decidió hacer...  \n",
       "2    gracias @victorianoi y equipo por el análisis ...  \n",
       "3    ¿cómo combatir el paro juvenil🥵 #tipdeldia en ...  \n",
       "4    ¿con ganas de probar si un empleo tecnológico ...  \n",
       "..                                                 ...  \n",
       "129  del periodismo al marketing digital 🤸 esta es ...  \n",
       "130  ciclo de conferencias sobre inteligencia artif...  \n",
       "131  me encantaría saber que les enseñan sobre esta...  \n",
       "132  @cbusquets hola @thebridge_tech te da la opció...  \n",
       "133  ¿quieres formarte en una de las profesiones qu...  \n",
       "\n",
       "[134 rows x 9 columns]"
      ]
     },
     "execution_count": 23,
     "metadata": {},
     "output_type": "execute_result"
    }
   ],
   "source": [
    "df"
   ]
  },
  {
   "cell_type": "code",
   "execution_count": 25,
   "metadata": {},
   "outputs": [
    {
     "name": "stdout",
     "output_type": "stream",
     "text": [
      "[0]\n",
      "[1]\n",
      "[1]\n"
     ]
    }
   ],
   "source": [
    "#Predicciones\n",
    "prediccion_modelo_1 = [\"De los 21, hay 7 desarrolladoras de Adalab_Digital, 4 de 4GeeksAcademyES, 2 de CodenotchMAD, 1 de socratech_ , 1 de TheBridge_Tech, 1 de @ITAcademy, 1 de nebulova_es y de FP-DAW y autodidactas.\"]\n",
    "prediccion_modelo_2 = [df[\"Clean Tweet\"].iloc[19]] #Esto para no copiar todo el texto como en la de arriba\n",
    "prediccion_modelo_3 = [df[\"Clean Tweet\"].iloc[88]]\n",
    "pickled_model = pickle.load(open('finished_model.model', 'rb')) #Finished model que nos habían dado\n",
    "prediccion_1 = pickled_model.predict(prediccion_modelo_1)\n",
    "prediccion_2 = pickled_model.predict(prediccion_modelo_2)\n",
    "prediccion_3 = pickled_model.predict(prediccion_modelo_3)\n",
    "\n",
    "print(prediccion_1) #Predicciones\n",
    "print(prediccion_2)\n",
    "print(prediccion_3)"
   ]
  },
  {
   "cell_type": "markdown",
   "metadata": {},
   "source": [
    "#### Analizando resultados"
   ]
  },
  {
   "cell_type": "code",
   "execution_count": 26,
   "metadata": {},
   "outputs": [
    {
     "name": "stdout",
     "output_type": "stream",
     "text": [
      "Tweet 1:  ['De los 21, hay 7 desarrolladoras de Adalab_Digital, 4 de 4GeeksAcademyES, 2 de CodenotchMAD, 1 de socratech_ , 1 de TheBridge_Tech, 1 de @ITAcademy, 1 de nebulova_es y de FP-DAW y autodidactas.'] \n",
      "\n",
      "Tweet 2:  ['en breve empezamos la charla sobre rv y psicología todo ready @thebridge_tech https  tco lwfvkhcgz'] \n",
      "\n",
      "Tweet 3:  ['día para agradecer a @thebridge_tech y @glovo_es la oportunidad que han dado a estos dos cracks para formarse con @codeorg en programación por bloques en un curso de  horas de duración\\nbravo 🙌 \\n🔝🦸🏻\\u200d♂️🦸🏻\\u200d♀️🏭🇪🇸 https  tco ztcrrohqtc']\n"
     ]
    }
   ],
   "source": [
    "print(\"Tweet 1: \", prediccion_modelo_1, \"\\n\")\n",
    "print(\"Tweet 2: \", prediccion_modelo_2, \"\\n\")\n",
    "print(\"Tweet 3: \", prediccion_modelo_3)"
   ]
  },
  {
   "cell_type": "markdown",
   "metadata": {},
   "source": [
    "La segunda y tercera predicción arrojan resultados negativo, lo cual no es correcto, esto puede deberse a la presencia de símbolos o el entrenamiento con una data distinta.\n",
    "\n",
    "Se observa que en los otros dos se encuentran links que pueden estar afectando el resultado.\n",
    "\n",
    "El modelo es mejorable entrenando con las palabras comunes a esta empresa, limpiando mejor texto de simbolos, emojis y links.\n",
    "\n",
    "Otros modelos de ML pueden ser aplicados para observar el cambio en el tiempo y si es sostenido (Time Series)."
   ]
  },
  {
   "cell_type": "markdown",
   "metadata": {},
   "source": [
    "#### Despliegue de modelo\n",
    "\n",
    "El modelo se encuentra desplegado en el siguiente link: http://miguellc.pythonanywhere.com/ (Descripción en api_calls)\n",
    "\n",
    "Es posible desplegarlo en AWS para aprovechamiento de un servidor más robusto."
   ]
  }
 ],
 "metadata": {
  "interpreter": {
   "hash": "219f817bc468ee9bbc9042efe754b0e5ae3b9ca86fa6aac439d3bcf84644ed6a"
  },
  "kernelspec": {
   "display_name": "Python 3.7.4 64-bit",
   "language": "python",
   "name": "python3"
  },
  "language_info": {
   "codemirror_mode": {
    "name": "ipython",
    "version": 3
   },
   "file_extension": ".py",
   "mimetype": "text/x-python",
   "name": "python",
   "nbconvert_exporter": "python",
   "pygments_lexer": "ipython3",
   "version": "3.7.4"
  },
  "orig_nbformat": 4
 },
 "nbformat": 4,
 "nbformat_minor": 2
}
